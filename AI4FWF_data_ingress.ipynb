{
  "nbformat": 4,
  "nbformat_minor": 0,
  "metadata": {
    "colab": {
      "name": "AI4FWF_data_ingress.ipynb",
      "version": "0.3.2",
      "provenance": [],
      "collapsed_sections": [],
      "toc_visible": true
    },
    "language_info": {
      "codemirror_mode": {
        "name": "ipython",
        "version": 3
      },
      "file_extension": ".py",
      "mimetype": "text/x-python",
      "name": "python",
      "nbconvert_exporter": "python",
      "pygments_lexer": "ipython3",
      "version": "3.6.5"
    },
    "kernelspec": {
      "display_name": "Python DS-Lab",
      "language": "python",
      "name": "ds"
    }
  },
  "cells": [
    {
      "cell_type": "markdown",
      "metadata": {
        "id": "1lN349rT--j-",
        "colab_type": "text"
      },
      "source": [
        "# AI4FutureWorkForce Data Ingress\n",
        "\n",
        "This notebook takes in lightly processed data and generates dataframes for use in Data Processing."
      ]
    },
    {
      "cell_type": "markdown",
      "metadata": {
        "id": "OhHYHFvL--j_",
        "colab_type": "text"
      },
      "source": [
        "## Dependencies"
      ]
    },
    {
      "cell_type": "code",
      "metadata": {
        "id": "d83s-yuf--kA",
        "colab_type": "code",
        "colab": {}
      },
      "source": [
        "import pandas as pd\n",
        "import numpy as np\n",
        "import _pickle as pickle\n",
        "import itertools\n",
        "\n",
        "from sklearn import preprocessing\n",
        "from sklearn.model_selection import train_test_split\n",
        "from collections import defaultdict\n",
        "from numpy.random import seed\n",
        "seed(42)"
      ],
      "execution_count": 0,
      "outputs": []
    },
    {
      "cell_type": "markdown",
      "metadata": {
        "id": "x3Agmide--kF",
        "colab_type": "text"
      },
      "source": [
        "## Load Data from csv\n",
        "We are placing data in the root directory however we could also use an S3 bucket or a SageMaker instance."
      ]
    },
    {
      "cell_type": "code",
      "metadata": {
        "id": "wZlAglJL--kG",
        "colab_type": "code",
        "colab": {}
      },
      "source": [
        "# DATA_PATH = 's3://staging-individual-786432523-eu-west-1-test1/AI4FWF/'\n",
        "DATA_PATH = ''\n",
        "\n",
        "# SAVE_PATH = '/home/ec2-user/SageMaker/s3/staging-individual-786432523-eu-west-1-test1/AI4FWF/'\n",
        "SAVE_PATH = ''"
      ],
      "execution_count": 0,
      "outputs": []
    },
    {
      "cell_type": "code",
      "metadata": {
        "id": "mTP68eaX--kJ",
        "colab_type": "code",
        "colab": {}
      },
      "source": [
        "# df_raw = pd.read_csv(DATA_PATH + \"20181108_IBD_deal_data.csv\", delimiter=',', encoding='utf-8', parse_dates=['startDate','endDate'])\n",
        "df_raw = pd.read_csv(DATA_PATH + \"hack_data.csv\", delimiter=',', encoding='utf-8')\n",
        "\n",
        "# df_raw.sort_values(by='startDate',inplace=True)"
      ],
      "execution_count": 0,
      "outputs": []
    },
    {
      "cell_type": "code",
      "metadata": {
        "id": "UgaLYFWfPMt-",
        "colab_type": "code",
        "outputId": "7bbe9191-0c87-4ac3-a690-b0909d1e5789",
        "colab": {
          "base_uri": "https://localhost:8080/",
          "height": 350
        }
      },
      "source": [
        "df_raw.head()"
      ],
      "execution_count": 4,
      "outputs": [
        {
          "output_type": "execute_result",
          "data": {
            "text/html": [
              "<div>\n",
              "<style scoped>\n",
              "    .dataframe tbody tr th:only-of-type {\n",
              "        vertical-align: middle;\n",
              "    }\n",
              "\n",
              "    .dataframe tbody tr th {\n",
              "        vertical-align: top;\n",
              "    }\n",
              "\n",
              "    .dataframe thead th {\n",
              "        text-align: right;\n",
              "    }\n",
              "</style>\n",
              "<table border=\"1\" class=\"dataframe\">\n",
              "  <thead>\n",
              "    <tr style=\"text-align: right;\">\n",
              "      <th></th>\n",
              "      <th>Fake Applicant ID</th>\n",
              "      <th>Age (Birthday Masked)</th>\n",
              "      <th>Income</th>\n",
              "      <th>Education</th>\n",
              "      <th>MAX(Learner Test Score)</th>\n",
              "      <th>Primary Interest In Course</th>\n",
              "      <th>Hours Coded</th>\n",
              "      <th>How Many Hours A Week Can You Commit To Class</th>\n",
              "      <th>Enrollment Status</th>\n",
              "      <th>Promise Zone Indicator</th>\n",
              "      <th>Hacker Rank Score</th>\n",
              "      <th>Average Essay Score</th>\n",
              "      <th>Location; number</th>\n",
              "      <th>Completed?</th>\n",
              "    </tr>\n",
              "  </thead>\n",
              "  <tbody>\n",
              "    <tr>\n",
              "      <th>0</th>\n",
              "      <td>58123</td>\n",
              "      <td>54</td>\n",
              "      <td>11</td>\n",
              "      <td>0</td>\n",
              "      <td>65</td>\n",
              "      <td>0</td>\n",
              "      <td>1</td>\n",
              "      <td>3</td>\n",
              "      <td>0</td>\n",
              "      <td>0</td>\n",
              "      <td>8.7</td>\n",
              "      <td>0.0</td>\n",
              "      <td>0</td>\n",
              "      <td>0</td>\n",
              "    </tr>\n",
              "    <tr>\n",
              "      <th>1</th>\n",
              "      <td>35033</td>\n",
              "      <td>30</td>\n",
              "      <td>3</td>\n",
              "      <td>1</td>\n",
              "      <td>60</td>\n",
              "      <td>0</td>\n",
              "      <td>3</td>\n",
              "      <td>3</td>\n",
              "      <td>1</td>\n",
              "      <td>0</td>\n",
              "      <td>8.0</td>\n",
              "      <td>43.3</td>\n",
              "      <td>0</td>\n",
              "      <td>0</td>\n",
              "    </tr>\n",
              "    <tr>\n",
              "      <th>2</th>\n",
              "      <td>24480</td>\n",
              "      <td>27</td>\n",
              "      <td>4</td>\n",
              "      <td>1</td>\n",
              "      <td>65</td>\n",
              "      <td>0</td>\n",
              "      <td>0</td>\n",
              "      <td>3</td>\n",
              "      <td>1</td>\n",
              "      <td>0</td>\n",
              "      <td>8.7</td>\n",
              "      <td>73.3</td>\n",
              "      <td>0</td>\n",
              "      <td>0</td>\n",
              "    </tr>\n",
              "    <tr>\n",
              "      <th>3</th>\n",
              "      <td>64235</td>\n",
              "      <td>36</td>\n",
              "      <td>7</td>\n",
              "      <td>0</td>\n",
              "      <td>60</td>\n",
              "      <td>0</td>\n",
              "      <td>1</td>\n",
              "      <td>3</td>\n",
              "      <td>2</td>\n",
              "      <td>0</td>\n",
              "      <td>8.0</td>\n",
              "      <td>73.3</td>\n",
              "      <td>0</td>\n",
              "      <td>0</td>\n",
              "    </tr>\n",
              "    <tr>\n",
              "      <th>4</th>\n",
              "      <td>35425</td>\n",
              "      <td>59</td>\n",
              "      <td>1</td>\n",
              "      <td>1</td>\n",
              "      <td>0</td>\n",
              "      <td>0</td>\n",
              "      <td>1</td>\n",
              "      <td>3</td>\n",
              "      <td>2</td>\n",
              "      <td>0</td>\n",
              "      <td>0.0</td>\n",
              "      <td>60.0</td>\n",
              "      <td>0</td>\n",
              "      <td>0</td>\n",
              "    </tr>\n",
              "  </tbody>\n",
              "</table>\n",
              "</div>"
            ],
            "text/plain": [
              "   Fake Applicant ID  Age (Birthday Masked)  ...  Location; number  Completed?\n",
              "0              58123                     54  ...                 0           0\n",
              "1              35033                     30  ...                 0           0\n",
              "2              24480                     27  ...                 0           0\n",
              "3              64235                     36  ...                 0           0\n",
              "4              35425                     59  ...                 0           0\n",
              "\n",
              "[5 rows x 14 columns]"
            ]
          },
          "metadata": {
            "tags": []
          },
          "execution_count": 4
        }
      ]
    },
    {
      "cell_type": "code",
      "metadata": {
        "id": "6lA6DQqiQ_oy",
        "colab_type": "code",
        "colab": {}
      },
      "source": [
        ""
      ],
      "execution_count": 0,
      "outputs": []
    },
    {
      "cell_type": "markdown",
      "metadata": {
        "id": "tEeWazpU--kL",
        "colab_type": "text"
      },
      "source": [
        "## Prep Base Data"
      ]
    },
    {
      "cell_type": "markdown",
      "metadata": {
        "id": "MEpwtVWw--kT",
        "colab_type": "text"
      },
      "source": [
        "Split into a seperate dataframe for data and labels"
      ]
    },
    {
      "cell_type": "code",
      "metadata": {
        "id": "MSppeTXa--kU",
        "colab_type": "code",
        "colab": {}
      },
      "source": [
        "# List all columns of data table\n",
        "column_list = ['Age (Birthday Masked)','Income','Education',\n",
        "               'MAX(Learner Test Score)','Primary Interest In Course',\n",
        "               'Hours Coded','How Many Hours A Week Can You Commit To Class',\n",
        "               'Promise Zone Indicator','Hacker Rank Score', 'Location; number']\n",
        "\n",
        "# List desired columns for train/test/validation\n",
        "desired_columns = ['Age (Birthday Masked)', 'Income', 'MAX(Learner Test Score)',\n",
        "                   'Hours Coded',\n",
        "                   'How Many Hours A Week Can You Commit To Class',\n",
        "                   'Promise Zone Indicator','Location; number']\n",
        "\n",
        "df_data = df_raw[column_list]\n",
        "df_labels = df_raw[['Completed?']]\n",
        "\n",
        "df_data, df_validata, df_labels, df_valilabels = train_test_split(\n",
        "    df_data, df_labels, test_size=0.2, random_state=42, shuffle=False)"
      ],
      "execution_count": 0,
      "outputs": []
    },
    {
      "cell_type": "code",
      "metadata": {
        "id": "lfjKzvIJXHDL",
        "colab_type": "code",
        "outputId": "36a91e10-fc74-4bae-9af9-cd35b1198c2a",
        "colab": {
          "base_uri": "https://localhost:8080/",
          "height": 195
        }
      },
      "source": [
        "df_labels.head()"
      ],
      "execution_count": 6,
      "outputs": [
        {
          "output_type": "execute_result",
          "data": {
            "text/html": [
              "<div>\n",
              "<style scoped>\n",
              "    .dataframe tbody tr th:only-of-type {\n",
              "        vertical-align: middle;\n",
              "    }\n",
              "\n",
              "    .dataframe tbody tr th {\n",
              "        vertical-align: top;\n",
              "    }\n",
              "\n",
              "    .dataframe thead th {\n",
              "        text-align: right;\n",
              "    }\n",
              "</style>\n",
              "<table border=\"1\" class=\"dataframe\">\n",
              "  <thead>\n",
              "    <tr style=\"text-align: right;\">\n",
              "      <th></th>\n",
              "      <th>Completed?</th>\n",
              "    </tr>\n",
              "  </thead>\n",
              "  <tbody>\n",
              "    <tr>\n",
              "      <th>0</th>\n",
              "      <td>0</td>\n",
              "    </tr>\n",
              "    <tr>\n",
              "      <th>1</th>\n",
              "      <td>0</td>\n",
              "    </tr>\n",
              "    <tr>\n",
              "      <th>2</th>\n",
              "      <td>0</td>\n",
              "    </tr>\n",
              "    <tr>\n",
              "      <th>3</th>\n",
              "      <td>0</td>\n",
              "    </tr>\n",
              "    <tr>\n",
              "      <th>4</th>\n",
              "      <td>0</td>\n",
              "    </tr>\n",
              "  </tbody>\n",
              "</table>\n",
              "</div>"
            ],
            "text/plain": [
              "   Completed?\n",
              "0           0\n",
              "1           0\n",
              "2           0\n",
              "3           0\n",
              "4           0"
            ]
          },
          "metadata": {
            "tags": []
          },
          "execution_count": 6
        }
      ]
    },
    {
      "cell_type": "markdown",
      "metadata": {
        "id": "aOjamJ8G--kX",
        "colab_type": "text"
      },
      "source": [
        "## Save Base Data"
      ]
    },
    {
      "cell_type": "code",
      "metadata": {
        "id": "uw16CTYQ--kY",
        "colab_type": "code",
        "outputId": "9232a0a9-5488-4ca9-b2fb-e4f9f16475f3",
        "colab": {
          "base_uri": "https://localhost:8080/",
          "height": 229
        }
      },
      "source": [
        "df_data.head(5)"
      ],
      "execution_count": 7,
      "outputs": [
        {
          "output_type": "execute_result",
          "data": {
            "text/html": [
              "<div>\n",
              "<style scoped>\n",
              "    .dataframe tbody tr th:only-of-type {\n",
              "        vertical-align: middle;\n",
              "    }\n",
              "\n",
              "    .dataframe tbody tr th {\n",
              "        vertical-align: top;\n",
              "    }\n",
              "\n",
              "    .dataframe thead th {\n",
              "        text-align: right;\n",
              "    }\n",
              "</style>\n",
              "<table border=\"1\" class=\"dataframe\">\n",
              "  <thead>\n",
              "    <tr style=\"text-align: right;\">\n",
              "      <th></th>\n",
              "      <th>Age (Birthday Masked)</th>\n",
              "      <th>Income</th>\n",
              "      <th>Education</th>\n",
              "      <th>MAX(Learner Test Score)</th>\n",
              "      <th>Primary Interest In Course</th>\n",
              "      <th>Hours Coded</th>\n",
              "      <th>How Many Hours A Week Can You Commit To Class</th>\n",
              "      <th>Promise Zone Indicator</th>\n",
              "      <th>Hacker Rank Score</th>\n",
              "      <th>Location; number</th>\n",
              "    </tr>\n",
              "  </thead>\n",
              "  <tbody>\n",
              "    <tr>\n",
              "      <th>0</th>\n",
              "      <td>54</td>\n",
              "      <td>11</td>\n",
              "      <td>0</td>\n",
              "      <td>65</td>\n",
              "      <td>0</td>\n",
              "      <td>1</td>\n",
              "      <td>3</td>\n",
              "      <td>0</td>\n",
              "      <td>8.7</td>\n",
              "      <td>0</td>\n",
              "    </tr>\n",
              "    <tr>\n",
              "      <th>1</th>\n",
              "      <td>30</td>\n",
              "      <td>3</td>\n",
              "      <td>1</td>\n",
              "      <td>60</td>\n",
              "      <td>0</td>\n",
              "      <td>3</td>\n",
              "      <td>3</td>\n",
              "      <td>0</td>\n",
              "      <td>8.0</td>\n",
              "      <td>0</td>\n",
              "    </tr>\n",
              "    <tr>\n",
              "      <th>2</th>\n",
              "      <td>27</td>\n",
              "      <td>4</td>\n",
              "      <td>1</td>\n",
              "      <td>65</td>\n",
              "      <td>0</td>\n",
              "      <td>0</td>\n",
              "      <td>3</td>\n",
              "      <td>0</td>\n",
              "      <td>8.7</td>\n",
              "      <td>0</td>\n",
              "    </tr>\n",
              "    <tr>\n",
              "      <th>3</th>\n",
              "      <td>36</td>\n",
              "      <td>7</td>\n",
              "      <td>0</td>\n",
              "      <td>60</td>\n",
              "      <td>0</td>\n",
              "      <td>1</td>\n",
              "      <td>3</td>\n",
              "      <td>0</td>\n",
              "      <td>8.0</td>\n",
              "      <td>0</td>\n",
              "    </tr>\n",
              "    <tr>\n",
              "      <th>4</th>\n",
              "      <td>59</td>\n",
              "      <td>1</td>\n",
              "      <td>1</td>\n",
              "      <td>0</td>\n",
              "      <td>0</td>\n",
              "      <td>1</td>\n",
              "      <td>3</td>\n",
              "      <td>0</td>\n",
              "      <td>0.0</td>\n",
              "      <td>0</td>\n",
              "    </tr>\n",
              "  </tbody>\n",
              "</table>\n",
              "</div>"
            ],
            "text/plain": [
              "   Age (Birthday Masked)  Income  ...  Hacker Rank Score  Location; number\n",
              "0                     54      11  ...                8.7                 0\n",
              "1                     30       3  ...                8.0                 0\n",
              "2                     27       4  ...                8.7                 0\n",
              "3                     36       7  ...                8.0                 0\n",
              "4                     59       1  ...                0.0                 0\n",
              "\n",
              "[5 rows x 10 columns]"
            ]
          },
          "metadata": {
            "tags": []
          },
          "execution_count": 7
        }
      ]
    },
    {
      "cell_type": "code",
      "metadata": {
        "id": "w2fPL2yw--ke",
        "colab_type": "code",
        "colab": {}
      },
      "source": [
        "# Save out base data and labels\n",
        "def save_to_file(df, file_name):\n",
        "    with open(SAVE_PATH + file_name, 'w') as f:\n",
        "        df_out = df.to_csv()\n",
        "        f.write(df_out)\n",
        "\n",
        "save_to_file(df_labels, 'df_labels.csv')\n",
        "save_to_file(df_valilabels, 'df_valilabels.csv')\n",
        "save_to_file(df_data, 'df_data.csv')\n",
        "save_to_file(df_validata, 'df_validata.csv')\n",
        "\n",
        "df_test = pd.read_csv(DATA_PATH + \"df_data.csv\", delimiter=',', encoding='utf-8')\n",
        "\n",
        "pickle.dump( df_labels, open( SAVE_PATH + \"df_labels.p\", \"wb\" ) )\n",
        "pickle.dump( df_valilabels, open( SAVE_PATH + \"df_valilabels.p\", \"wb\" ) )\n",
        "\n",
        "pickle.dump( df_data, open( SAVE_PATH + \"df_data.p\", \"wb\" ) )\n",
        "pickle.dump( df_validata, open( SAVE_PATH + \"df_validata.p\", \"wb\" ) )"
      ],
      "execution_count": 0,
      "outputs": []
    },
    {
      "cell_type": "code",
      "metadata": {
        "id": "-WLfcjpy9lWb",
        "colab_type": "code",
        "outputId": "67504749-230e-4617-fb3a-b255acfc8aba",
        "colab": {
          "base_uri": "https://localhost:8080/",
          "height": 229
        }
      },
      "source": [
        "df_test.head(5)"
      ],
      "execution_count": 9,
      "outputs": [
        {
          "output_type": "execute_result",
          "data": {
            "text/html": [
              "<div>\n",
              "<style scoped>\n",
              "    .dataframe tbody tr th:only-of-type {\n",
              "        vertical-align: middle;\n",
              "    }\n",
              "\n",
              "    .dataframe tbody tr th {\n",
              "        vertical-align: top;\n",
              "    }\n",
              "\n",
              "    .dataframe thead th {\n",
              "        text-align: right;\n",
              "    }\n",
              "</style>\n",
              "<table border=\"1\" class=\"dataframe\">\n",
              "  <thead>\n",
              "    <tr style=\"text-align: right;\">\n",
              "      <th></th>\n",
              "      <th>Unnamed: 0</th>\n",
              "      <th>Age (Birthday Masked)</th>\n",
              "      <th>Income</th>\n",
              "      <th>Education</th>\n",
              "      <th>MAX(Learner Test Score)</th>\n",
              "      <th>Primary Interest In Course</th>\n",
              "      <th>Hours Coded</th>\n",
              "      <th>How Many Hours A Week Can You Commit To Class</th>\n",
              "      <th>Promise Zone Indicator</th>\n",
              "      <th>Hacker Rank Score</th>\n",
              "      <th>Location; number</th>\n",
              "    </tr>\n",
              "  </thead>\n",
              "  <tbody>\n",
              "    <tr>\n",
              "      <th>0</th>\n",
              "      <td>0</td>\n",
              "      <td>54</td>\n",
              "      <td>11</td>\n",
              "      <td>0</td>\n",
              "      <td>65</td>\n",
              "      <td>0</td>\n",
              "      <td>1</td>\n",
              "      <td>3</td>\n",
              "      <td>0</td>\n",
              "      <td>8.7</td>\n",
              "      <td>0</td>\n",
              "    </tr>\n",
              "    <tr>\n",
              "      <th>1</th>\n",
              "      <td>1</td>\n",
              "      <td>30</td>\n",
              "      <td>3</td>\n",
              "      <td>1</td>\n",
              "      <td>60</td>\n",
              "      <td>0</td>\n",
              "      <td>3</td>\n",
              "      <td>3</td>\n",
              "      <td>0</td>\n",
              "      <td>8.0</td>\n",
              "      <td>0</td>\n",
              "    </tr>\n",
              "    <tr>\n",
              "      <th>2</th>\n",
              "      <td>2</td>\n",
              "      <td>27</td>\n",
              "      <td>4</td>\n",
              "      <td>1</td>\n",
              "      <td>65</td>\n",
              "      <td>0</td>\n",
              "      <td>0</td>\n",
              "      <td>3</td>\n",
              "      <td>0</td>\n",
              "      <td>8.7</td>\n",
              "      <td>0</td>\n",
              "    </tr>\n",
              "    <tr>\n",
              "      <th>3</th>\n",
              "      <td>3</td>\n",
              "      <td>36</td>\n",
              "      <td>7</td>\n",
              "      <td>0</td>\n",
              "      <td>60</td>\n",
              "      <td>0</td>\n",
              "      <td>1</td>\n",
              "      <td>3</td>\n",
              "      <td>0</td>\n",
              "      <td>8.0</td>\n",
              "      <td>0</td>\n",
              "    </tr>\n",
              "    <tr>\n",
              "      <th>4</th>\n",
              "      <td>4</td>\n",
              "      <td>59</td>\n",
              "      <td>1</td>\n",
              "      <td>1</td>\n",
              "      <td>0</td>\n",
              "      <td>0</td>\n",
              "      <td>1</td>\n",
              "      <td>3</td>\n",
              "      <td>0</td>\n",
              "      <td>0.0</td>\n",
              "      <td>0</td>\n",
              "    </tr>\n",
              "  </tbody>\n",
              "</table>\n",
              "</div>"
            ],
            "text/plain": [
              "   Unnamed: 0  Age (Birthday Masked)  ...  Hacker Rank Score  Location; number\n",
              "0           0                     54  ...                8.7                 0\n",
              "1           1                     30  ...                8.0                 0\n",
              "2           2                     27  ...                8.7                 0\n",
              "3           3                     36  ...                8.0                 0\n",
              "4           4                     59  ...                0.0                 0\n",
              "\n",
              "[5 rows x 11 columns]"
            ]
          },
          "metadata": {
            "tags": []
          },
          "execution_count": 9
        }
      ]
    },
    {
      "cell_type": "markdown",
      "metadata": {
        "id": "-3jv-hjt--kh",
        "colab_type": "text"
      },
      "source": [
        "## Clean and Transform Data\n",
        "Data is cleaned to replace missing values and normalised"
      ]
    },
    {
      "cell_type": "code",
      "metadata": {
        "id": "QyFJFneUjIR8",
        "colab_type": "code",
        "colab": {}
      },
      "source": [
        "def normalise_df(train_df, test_df, AXIS, val_df=1):\n",
        "    mu = train_df.mean(axis=AXIS)\n",
        "    sd = train_df.std(axis=AXIS)\n",
        "\n",
        "    train_df = (train_df - mu) / sd\n",
        "    test_df = (test_df - mu) / sd\n",
        "    val_df = (val_df - mu) / sd\n",
        "\n",
        "    return train_df, test_df, val_df"
      ],
      "execution_count": 0,
      "outputs": []
    },
    {
      "cell_type": "code",
      "metadata": {
        "colab_type": "code",
        "id": "Chv7l0_a_AGx",
        "colab": {}
      },
      "source": [
        "def drop_na_df(data_df, labels_df, cols):\n",
        "    frames = [data_df, labels_df]\n",
        "    df = pd.concat(frames, axis=1)\n",
        "\n",
        "    df.dropna(thresh=9, how='all', inplace=True)\n",
        "\n",
        "    data_df = df[cols]\n",
        "    labels_df = df['statuscode']\n",
        "\n",
        "    return data_df, labels_df"
      ],
      "execution_count": 0,
      "outputs": []
    },
    {
      "cell_type": "code",
      "metadata": {
        "id": "Nn8fwFHmZ-7f",
        "colab_type": "code",
        "colab": {}
      },
      "source": [
        "def prepare(column_list, desired_columns, df_data, df_validata, df_labels, df_valilabels, SHUFFLE, FILL):\n",
        "    df_data = df_data[column_list]\n",
        "    df_validata = df_validata[column_list]\n",
        "\n",
        "    df_prep = df_data.copy()\n",
        "    df_prep_val = df_validata.copy()\n",
        "\n",
        "\n",
        "    # Split into train/test/validation\n",
        "    X = df_prep[desired_columns]\n",
        "    Y = df_labels\n",
        "\n",
        "    X_train, X_test, y_train, y_test = train_test_split(X, Y, test_size=0.25,\n",
        "                                                        random_state=42,\n",
        "                                                        shuffle=SHUFFLE)\n",
        "\n",
        "    X_val = df_prep_val[desired_columns]\n",
        "    y_val = df_valilabels\n",
        "\n",
        "    # Normalise data\n",
        "    X_train, X_test, X_val = normalise_df(X_train, X_test, 0, X_val)\n",
        "\n",
        "    # Ensure values are flattened\n",
        "    y_train = y_train.values.ravel()\n",
        "    y_test = y_test.values.ravel()\n",
        "    y_val = y_val.values.ravel()\n",
        "\n",
        "    return X_train, X_test, X_val, y_train, y_test, y_val"
      ],
      "execution_count": 0,
      "outputs": []
    },
    {
      "cell_type": "code",
      "metadata": {
        "id": "jmM67wHb--ki",
        "colab_type": "code",
        "colab": {}
      },
      "source": [
        "SHUFFLE = True\n",
        "FILL = 0\n",
        "\n",
        "X_train, X_test, X_val, y_train, y_test, y_val = prepare(\n",
        "    column_list,desired_columns, df_data, df_validata, df_labels,df_valilabels, \n",
        "    SHUFFLE, FILL)"
      ],
      "execution_count": 0,
      "outputs": []
    },
    {
      "cell_type": "code",
      "metadata": {
        "colab_type": "code",
        "id": "eC4JkxBwYikf",
        "outputId": "0d1393db-e983-4ad3-feff-2df8b93f425c",
        "colab": {
          "base_uri": "https://localhost:8080/",
          "height": 34
        }
      },
      "source": [
        "print(\"This should be 0, 1's:\\t\", y_train)"
      ],
      "execution_count": 14,
      "outputs": [
        {
          "output_type": "stream",
          "text": [
            "This should be 0, 1's:\t [1 1 1 ... 1 0 1]\n"
          ],
          "name": "stdout"
        }
      ]
    },
    {
      "cell_type": "code",
      "metadata": {
        "id": "2eZm4QS_Bsnk",
        "colab_type": "code",
        "outputId": "e44cf410-9789-41bb-b1ae-27fe36f71930",
        "colab": {
          "base_uri": "https://localhost:8080/",
          "height": 34
        }
      },
      "source": [
        "np.unique(y_train)"
      ],
      "execution_count": 15,
      "outputs": [
        {
          "output_type": "execute_result",
          "data": {
            "text/plain": [
              "array([0, 1])"
            ]
          },
          "metadata": {
            "tags": []
          },
          "execution_count": 15
        }
      ]
    },
    {
      "cell_type": "markdown",
      "metadata": {
        "id": "mkCiueok--kq",
        "colab_type": "text"
      },
      "source": [
        "## Save Cleaned Data"
      ]
    },
    {
      "cell_type": "code",
      "metadata": {
        "id": "geWsnsjo--kr",
        "colab_type": "code",
        "colab": {}
      },
      "source": [
        "# Save out pickled data and labels\n",
        "pickle.dump( X_train, open( SAVE_PATH + \"X_train.p\", \"wb\" ) )\n",
        "pickle.dump( X_test, open( SAVE_PATH + \"X_test.p\", \"wb\" ) )\n",
        "pickle.dump( X_val, open( SAVE_PATH + \"X_val.p\", \"wb\" ) )\n",
        "\n",
        "pickle.dump( y_train, open( SAVE_PATH + \"y_train.p\", \"wb\" ) )\n",
        "pickle.dump( y_test, open( SAVE_PATH + \"y_test.p\", \"wb\" ) )\n",
        "pickle.dump( y_val, open( SAVE_PATH + \"y_val.p\", \"wb\" ) )"
      ],
      "execution_count": 0,
      "outputs": []
    },
    {
      "cell_type": "markdown",
      "metadata": {
        "id": "64Uf7jXHOj1l",
        "colab_type": "text"
      },
      "source": [
        "Checking that the dataframe looks like it should:"
      ]
    },
    {
      "cell_type": "code",
      "metadata": {
        "id": "sBGpsRy8-dDU",
        "colab_type": "code",
        "colab": {
          "base_uri": "https://localhost:8080/",
          "height": 212
        },
        "outputId": "d9293820-c05c-4f15-ff95-711e49c0193e"
      },
      "source": [
        "X_train.head()"
      ],
      "execution_count": 17,
      "outputs": [
        {
          "output_type": "execute_result",
          "data": {
            "text/html": [
              "<div>\n",
              "<style scoped>\n",
              "    .dataframe tbody tr th:only-of-type {\n",
              "        vertical-align: middle;\n",
              "    }\n",
              "\n",
              "    .dataframe tbody tr th {\n",
              "        vertical-align: top;\n",
              "    }\n",
              "\n",
              "    .dataframe thead th {\n",
              "        text-align: right;\n",
              "    }\n",
              "</style>\n",
              "<table border=\"1\" class=\"dataframe\">\n",
              "  <thead>\n",
              "    <tr style=\"text-align: right;\">\n",
              "      <th></th>\n",
              "      <th>Age (Birthday Masked)</th>\n",
              "      <th>Income</th>\n",
              "      <th>MAX(Learner Test Score)</th>\n",
              "      <th>Hours Coded</th>\n",
              "      <th>How Many Hours A Week Can You Commit To Class</th>\n",
              "      <th>Promise Zone Indicator</th>\n",
              "      <th>Location; number</th>\n",
              "    </tr>\n",
              "  </thead>\n",
              "  <tbody>\n",
              "    <tr>\n",
              "      <th>1341</th>\n",
              "      <td>0.353798</td>\n",
              "      <td>1.832671</td>\n",
              "      <td>0.988618</td>\n",
              "      <td>-0.055229</td>\n",
              "      <td>-2.027239</td>\n",
              "      <td>-0.405866</td>\n",
              "      <td>0.571825</td>\n",
              "    </tr>\n",
              "    <tr>\n",
              "      <th>1649</th>\n",
              "      <td>-1.263828</td>\n",
              "      <td>-0.299421</td>\n",
              "      <td>0.018359</td>\n",
              "      <td>0.959409</td>\n",
              "      <td>0.381102</td>\n",
              "      <td>-0.405866</td>\n",
              "      <td>0.571825</td>\n",
              "    </tr>\n",
              "    <tr>\n",
              "      <th>998</th>\n",
              "      <td>-0.940303</td>\n",
              "      <td>-1.152258</td>\n",
              "      <td>1.312038</td>\n",
              "      <td>0.959409</td>\n",
              "      <td>0.381102</td>\n",
              "      <td>-0.405866</td>\n",
              "      <td>0.571825</td>\n",
              "    </tr>\n",
              "    <tr>\n",
              "      <th>1220</th>\n",
              "      <td>0.353798</td>\n",
              "      <td>-0.299421</td>\n",
              "      <td>-1.598740</td>\n",
              "      <td>1.974047</td>\n",
              "      <td>1.585273</td>\n",
              "      <td>2.461954</td>\n",
              "      <td>0.571825</td>\n",
              "    </tr>\n",
              "    <tr>\n",
              "      <th>1133</th>\n",
              "      <td>0.353798</td>\n",
              "      <td>0.553416</td>\n",
              "      <td>0.018359</td>\n",
              "      <td>-1.069867</td>\n",
              "      <td>1.585273</td>\n",
              "      <td>-0.405866</td>\n",
              "      <td>0.571825</td>\n",
              "    </tr>\n",
              "  </tbody>\n",
              "</table>\n",
              "</div>"
            ],
            "text/plain": [
              "      Age (Birthday Masked)    Income  ...  Promise Zone Indicator  Location; number\n",
              "1341               0.353798  1.832671  ...               -0.405866          0.571825\n",
              "1649              -1.263828 -0.299421  ...               -0.405866          0.571825\n",
              "998               -0.940303 -1.152258  ...               -0.405866          0.571825\n",
              "1220               0.353798 -0.299421  ...                2.461954          0.571825\n",
              "1133               0.353798  0.553416  ...               -0.405866          0.571825\n",
              "\n",
              "[5 rows x 7 columns]"
            ]
          },
          "metadata": {
            "tags": []
          },
          "execution_count": 17
        }
      ]
    }
  ]
}