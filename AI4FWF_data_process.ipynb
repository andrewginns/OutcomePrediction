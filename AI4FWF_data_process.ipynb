{
  "nbformat": 4,
  "nbformat_minor": 0,
  "metadata": {
    "colab": {
      "name": "AI4FWF_data_process.ipynb",
      "version": "0.3.2",
      "provenance": [],
      "collapsed_sections": [],
      "toc_visible": true
    },
    "language_info": {
      "codemirror_mode": {
        "name": "ipython",
        "version": 3
      },
      "file_extension": ".py",
      "mimetype": "text/x-python",
      "name": "python",
      "nbconvert_exporter": "python",
      "pygments_lexer": "ipython3",
      "version": "3.6.5"
    },
    "kernelspec": {
      "display_name": "Python DS-Lab",
      "language": "python",
      "name": "ds"
    }
  },
  "cells": [
    {
      "cell_type": "markdown",
      "metadata": {
        "colab_type": "text",
        "id": "R0Rrawe1YikD"
      },
      "source": [
        "# AI4FutureWorkForce Data Processing\n",
        "Exploration of predicting course completion using sklearn and Tensorflow"
      ]
    },
    {
      "cell_type": "markdown",
      "metadata": {
        "colab_type": "text",
        "id": "eNQ1K6-cYikF"
      },
      "source": [
        "## Dependencies\n",
        "These are all the libraries  we need to run this notebook"
      ]
    },
    {
      "cell_type": "code",
      "metadata": {
        "colab_type": "code",
        "id": "55xM9ahPULUa",
        "outputId": "07988d0f-5558-4937-9bd3-6c653a90a6d5",
        "colab": {
          "base_uri": "https://localhost:8080/",
          "height": 17
        }
      },
      "source": [
        "import pandas as pd\n",
        "import plotly.offline as plt\n",
        "import _pickle as pickle\n",
        "import os\n",
        "import numpy as np\n",
        "\n",
        "import tensorflow as tf\n",
        "  \n",
        "import tensorflow.keras as keras\n",
        "\n",
        "import plotly.graph_objs as go\n",
        "import itertools\n",
        "\n",
        "from sklearn.naive_bayes import GaussianNB\n",
        "from sklearn import svm\n",
        "from sklearn.metrics import accuracy_score\n",
        "from sklearn import linear_model\n",
        "from sklearn.ensemble import RandomForestClassifier\n",
        "from sklearn.model_selection import GridSearchCV\n",
        "from sklearn import preprocessing\n",
        "from sklearn.model_selection import train_test_split\n",
        "from collections import defaultdict\n",
        "from sklearn.metrics import classification_report\n",
        "from numpy.random import seed\n",
        "seed(42)\n",
        "from tensorflow import set_random_seed\n",
        "set_random_seed(42)\n",
        "from tensorflow.python.client import device_lib\n",
        "\n",
        "plt.init_notebook_mode(connected=True)"
      ],
      "execution_count": 1,
      "outputs": [
        {
          "output_type": "display_data",
          "data": {
            "text/vnd.plotly.v1+html": "<script type=\"text/javascript\">window.PlotlyConfig = {MathJaxConfig: 'local'};</script><script type=\"text/javascript\">if (window.MathJax) {MathJax.Hub.Config({SVG: {font: \"STIX-Web\"}});}</script><script>requirejs.config({paths: { 'plotly': ['https://cdn.plot.ly/plotly-latest.min']},});if(!window._Plotly) {require(['plotly'],function(plotly) {window._Plotly=plotly;});}</script>",
            "text/html": [
              "<script type=\"text/javascript\">window.PlotlyConfig = {MathJaxConfig: 'local'};</script><script type=\"text/javascript\">if (window.MathJax) {MathJax.Hub.Config({SVG: {font: \"STIX-Web\"}});}</script><script>requirejs.config({paths: { 'plotly': ['https://cdn.plot.ly/plotly-latest.min']},});if(!window._Plotly) {require(['plotly'],function(plotly) {window._Plotly=plotly;});}</script>"
            ]
          },
          "metadata": {
            "tags": []
          }
        }
      ]
    },
    {
      "cell_type": "code",
      "metadata": {
        "colab_type": "code",
        "id": "renKJh4YU__s",
        "outputId": "53a199a3-f857-4f76-c03d-15e09a26e525",
        "colab": {
          "base_uri": "https://localhost:8080/",
          "height": 218
        }
      },
      "source": [
        "# Verify that the TF device we're using is what we expect\n",
        "device_lib.list_local_devices()"
      ],
      "execution_count": 2,
      "outputs": [
        {
          "output_type": "execute_result",
          "data": {
            "text/plain": [
              "[name: \"/device:CPU:0\"\n",
              " device_type: \"CPU\"\n",
              " memory_limit: 268435456\n",
              " locality {\n",
              " }\n",
              " incarnation: 5457231463178488201, name: \"/device:XLA_CPU:0\"\n",
              " device_type: \"XLA_CPU\"\n",
              " memory_limit: 17179869184\n",
              " locality {\n",
              " }\n",
              " incarnation: 7095777417938979866\n",
              " physical_device_desc: \"device: XLA_CPU device\"]"
            ]
          },
          "metadata": {
            "tags": []
          },
          "execution_count": 2
        }
      ]
    },
    {
      "cell_type": "markdown",
      "metadata": {
        "colab_type": "text",
        "id": "CMsPanSHYikH"
      },
      "source": [
        "## Load Data"
      ]
    },
    {
      "cell_type": "code",
      "metadata": {
        "colab_type": "code",
        "id": "hPi5R-BnVfll",
        "colab": {}
      },
      "source": [
        "# Whether or not to use raw or processed dfs\n",
        "PREPROCESS = 0\n",
        "# Whether to fill fee columns or just encode as NaN\n",
        "FILL = 0\n",
        "SHUFFLE = True\n",
        "\n",
        "NUM_CLASSES = 2"
      ],
      "execution_count": 0,
      "outputs": []
    },
    {
      "cell_type": "code",
      "metadata": {
        "colab_type": "code",
        "id": "oDk9N1X9W16c",
        "colab": {}
      },
      "source": [
        "# List all columns of the tables in data\n",
        "column_list = ['Age (Birthday Masked)','Income','Education',\n",
        "               'MAX(Learner Test Score)','Primary Interest In Course',\n",
        "               'Hours Coded','How Many Hours A Week Can You Commit To Class',\n",
        "               'Promise Zone Indicator','Hacker Rank Score', 'Location; number']\n",
        "\n",
        "# List desired columns for train/test/validation\n",
        "desired_columns = ['Age (Birthday Masked)','Income','Education',\n",
        "               'MAX(Learner Test Score)','Primary Interest In Course',\n",
        "               'Hours Coded','How Many Hours A Week Can You Commit To Class',\n",
        "               'Promise Zone Indicator','Hacker Rank Score', 'Location; number']\n",
        "\n",
        "# Load raw data and run pre-processing\n",
        "if PREPROCESS == 1:\n",
        "    df_data = pickle.load( open( \"df_data.p\", \"rb\" ) )\n",
        "    df_labels = pickle.load( open( \"df_labels.p\", \"rb\" ) )\n",
        "\n",
        "    df_validata = pickle.load( open( \"df_validata.p\", \"rb\" ) )\n",
        "    df_valilabels = pickle.load( open( \"df_valilabels.p\", \"rb\" ) )\n",
        "    \n",
        "    df_valilabels = df_valilabels.add(1)\n",
        "    df_labels = df_labels.add(1)\n",
        "\n",
        "    X_train, X_test, X_val, y_train, y_test, y_val = data_prepare.prepare\n",
        "    (column_list, desired_columns, df_data, df_validata, df_labels, \n",
        "     df_valilabels, SHUFFLE, FILL)\n",
        "    \n",
        "    print(X_train.shape, X_test.shape, X_val.shape)\n",
        "\n",
        "# Otherwise load pre-processed data\n",
        "else:\n",
        "    X_train = pickle.load( open( \"X_train.p\", \"rb\" ) )\n",
        "    X_test = pickle.load( open( \"X_test.p\", \"rb\" ) )\n",
        "    X_val = pickle.load( open( \"X_val.p\", \"rb\" ) )\n",
        "    \n",
        "    y_train = pickle.load( open( \"y_train.p\", \"rb\" ) )\n",
        "    y_test = pickle.load( open( \"y_test.p\", \"rb\" ) )\n",
        "    y_val = pickle.load( open( \"y_val.p\", \"rb\" ) )"
      ],
      "execution_count": 0,
      "outputs": []
    },
    {
      "cell_type": "markdown",
      "metadata": {
        "id": "4jhlUxIhONVd",
        "colab_type": "text"
      },
      "source": [
        "Checking that the dataframe looks like it should:"
      ]
    },
    {
      "cell_type": "code",
      "metadata": {
        "id": "tiCmvlk4GkAv",
        "colab_type": "code",
        "outputId": "b2240604-ad47-4e9b-f868-8ff570eda49a",
        "colab": {
          "base_uri": "https://localhost:8080/",
          "height": 212
        }
      },
      "source": [
        "X_train.head()"
      ],
      "execution_count": 5,
      "outputs": [
        {
          "output_type": "execute_result",
          "data": {
            "text/html": [
              "<div>\n",
              "<style scoped>\n",
              "    .dataframe tbody tr th:only-of-type {\n",
              "        vertical-align: middle;\n",
              "    }\n",
              "\n",
              "    .dataframe tbody tr th {\n",
              "        vertical-align: top;\n",
              "    }\n",
              "\n",
              "    .dataframe thead th {\n",
              "        text-align: right;\n",
              "    }\n",
              "</style>\n",
              "<table border=\"1\" class=\"dataframe\">\n",
              "  <thead>\n",
              "    <tr style=\"text-align: right;\">\n",
              "      <th></th>\n",
              "      <th>Age (Birthday Masked)</th>\n",
              "      <th>Income</th>\n",
              "      <th>MAX(Learner Test Score)</th>\n",
              "      <th>Hours Coded</th>\n",
              "      <th>How Many Hours A Week Can You Commit To Class</th>\n",
              "      <th>Promise Zone Indicator</th>\n",
              "      <th>Location; number</th>\n",
              "    </tr>\n",
              "  </thead>\n",
              "  <tbody>\n",
              "    <tr>\n",
              "      <th>1341</th>\n",
              "      <td>0.353798</td>\n",
              "      <td>1.832671</td>\n",
              "      <td>0.988618</td>\n",
              "      <td>-0.055229</td>\n",
              "      <td>-2.027239</td>\n",
              "      <td>-0.405866</td>\n",
              "      <td>0.571825</td>\n",
              "    </tr>\n",
              "    <tr>\n",
              "      <th>1649</th>\n",
              "      <td>-1.263828</td>\n",
              "      <td>-0.299421</td>\n",
              "      <td>0.018359</td>\n",
              "      <td>0.959409</td>\n",
              "      <td>0.381102</td>\n",
              "      <td>-0.405866</td>\n",
              "      <td>0.571825</td>\n",
              "    </tr>\n",
              "    <tr>\n",
              "      <th>998</th>\n",
              "      <td>-0.940303</td>\n",
              "      <td>-1.152258</td>\n",
              "      <td>1.312038</td>\n",
              "      <td>0.959409</td>\n",
              "      <td>0.381102</td>\n",
              "      <td>-0.405866</td>\n",
              "      <td>0.571825</td>\n",
              "    </tr>\n",
              "    <tr>\n",
              "      <th>1220</th>\n",
              "      <td>0.353798</td>\n",
              "      <td>-0.299421</td>\n",
              "      <td>-1.598740</td>\n",
              "      <td>1.974047</td>\n",
              "      <td>1.585273</td>\n",
              "      <td>2.461954</td>\n",
              "      <td>0.571825</td>\n",
              "    </tr>\n",
              "    <tr>\n",
              "      <th>1133</th>\n",
              "      <td>0.353798</td>\n",
              "      <td>0.553416</td>\n",
              "      <td>0.018359</td>\n",
              "      <td>-1.069867</td>\n",
              "      <td>1.585273</td>\n",
              "      <td>-0.405866</td>\n",
              "      <td>0.571825</td>\n",
              "    </tr>\n",
              "  </tbody>\n",
              "</table>\n",
              "</div>"
            ],
            "text/plain": [
              "      Age (Birthday Masked)    Income  ...  Promise Zone Indicator  Location; number\n",
              "1341               0.353798  1.832671  ...               -0.405866          0.571825\n",
              "1649              -1.263828 -0.299421  ...               -0.405866          0.571825\n",
              "998               -0.940303 -1.152258  ...               -0.405866          0.571825\n",
              "1220               0.353798 -0.299421  ...                2.461954          0.571825\n",
              "1133               0.353798  0.553416  ...               -0.405866          0.571825\n",
              "\n",
              "[5 rows x 7 columns]"
            ]
          },
          "metadata": {
            "tags": []
          },
          "execution_count": 5
        }
      ]
    },
    {
      "cell_type": "code",
      "metadata": {
        "id": "B3GkFstkGp_t",
        "colab_type": "code",
        "outputId": "c1c010f1-35e6-4d1f-c956-0110bb32a533",
        "colab": {
          "base_uri": "https://localhost:8080/",
          "height": 34
        }
      },
      "source": [
        "y_train"
      ],
      "execution_count": 6,
      "outputs": [
        {
          "output_type": "execute_result",
          "data": {
            "text/plain": [
              "array([1, 1, 1, ..., 1, 0, 1])"
            ]
          },
          "metadata": {
            "tags": []
          },
          "execution_count": 6
        }
      ]
    },
    {
      "cell_type": "markdown",
      "metadata": {
        "id": "CNK3M-l6Gm2d",
        "colab_type": "text"
      },
      "source": [
        "# Classification Functions"
      ]
    },
    {
      "cell_type": "code",
      "metadata": {
        "id": "oZ8VLWm4Gryr",
        "colab_type": "code",
        "colab": {}
      },
      "source": [
        "class EpochTrack(keras.callbacks.Callback):\n",
        "    def on_epoch_end(self, epoch, logs):\n",
        "        if epoch % 100 == 0:\n",
        "            print('')\n",
        "        print('.', end='')\n",
        "\n",
        "\n",
        "def eval_model(model, test_data, test_labels, VERBOSE, NUM_CLASSES):\n",
        "    test_labels_sparse = keras.utils.to_categorical(test_labels, NUM_CLASSES)\n",
        "    [loss, mae, acc] = model.evaluate(test_data, test_labels_sparse, \n",
        "                                      verbose=VERBOSE)\n",
        "    \n",
        "    print(\"Mean Abs Error:\\t{:7.2f}\".format(mae * 1000))\n",
        "    print(\"Loss:\\t\\t\", loss)\n",
        "    print(\"Accuracy:\\t\", acc)\n",
        "\n",
        "    preds = model.predict(test_data)\n",
        "    y_preds = preds.argmax(axis=-1)\n",
        "    print(classification_report(test_labels, y_preds))\n",
        "\n",
        "    return acc, preds\n",
        "\n",
        "\n",
        "def plot_history(history):\n",
        "    # Define each data series\n",
        "    trace1 = go.Scatter(x=history.epoch, y=np.array\n",
        "                        (history.history['mean_absolute_error']), \n",
        "                        name='Training Loss')\n",
        "    trace2 = go.Scatter(x=history.epoch, y=np.array\n",
        "                        (history.history['val_mean_absolute_error']), \n",
        "                        name='Val Loss')\n",
        "\n",
        "    # Add each series\n",
        "    data = [trace1, trace2]\n",
        "\n",
        "    # Define graph layout\n",
        "    layout = go.Layout(\n",
        "        title='Training History',\n",
        "        xaxis=dict(title='Epoch'),\n",
        "        yaxis=dict(title='Mean Abs Error'))\n",
        "\n",
        "    fig = go.Figure(data=data, layout=layout)\n",
        "    plt.iplot(fig)\n",
        "\n",
        "def show_incorrect(y_classes, data, act):\n",
        "    incorrects = np.nonzero(y_classes.reshape((-1,)) != act)\n",
        "    test_X = data.iloc[incorrects]\n",
        "\n",
        "    test_y = pd.DataFrame(y_classes[tuple(incorrects)])\n",
        "    test_y.columns = ['Prediction']\n",
        "\n",
        "    act_y = pd.DataFrame(act[tuple(incorrects)])\n",
        "    act_y.columns = ['Actual']\n",
        "\n",
        "    test_X.index = range(len(test_X))\n",
        "\n",
        "    frames = [test_X, test_y, act_y]\n",
        "    df_pred = pd.concat(frames, axis=1)\n",
        "\n",
        "    return df_pred\n",
        "  \n",
        "  \n",
        "def skl_evaluate(model, desired_columns, X, y):\n",
        "    score = model.score(X, y.astype(int))\n",
        "\n",
        "    preds = model.predict(X)\n",
        "    print(classification_report(y, preds))\n",
        "\n",
        "    print(\"Accuracy on dataset:\\t %f\\n\" % score)\n",
        "\n",
        "    importances = model.feature_importances_\n",
        "\n",
        "    indices = np.argsort(importances)[::-1]\n",
        "\n",
        "    # Print the feature ranking\n",
        "    print(\"Feature ranking:\")\n",
        "    for f in range(X.shape[1]):\n",
        "        print(\"%d. %s \\t(%f)\" % (f + 1, desired_columns[indices[f]], importances[indices[f]]))\n",
        "\n",
        "    return score"
      ],
      "execution_count": 0,
      "outputs": []
    },
    {
      "cell_type": "markdown",
      "metadata": {
        "colab_type": "text",
        "id": "KhNtWMhBYikj"
      },
      "source": [
        "## Classify"
      ]
    },
    {
      "cell_type": "code",
      "metadata": {
        "colab_type": "code",
        "id": "thWWVK5xYikl",
        "outputId": "32e052f0-0406-4b39-a4b4-318a7f5d6d6b",
        "colab": {
          "base_uri": "https://localhost:8080/",
          "height": 34
        }
      },
      "source": [
        "nb = GaussianNB()\n",
        "nb.fit(X_train, y_train.astype(int))"
      ],
      "execution_count": 8,
      "outputs": [
        {
          "output_type": "execute_result",
          "data": {
            "text/plain": [
              "GaussianNB(priors=None, var_smoothing=1e-09)"
            ]
          },
          "metadata": {
            "tags": []
          },
          "execution_count": 8
        }
      ]
    },
    {
      "cell_type": "code",
      "metadata": {
        "id": "E8-oN0TfQCie",
        "colab_type": "code",
        "outputId": "801132b2-93c2-43b4-9f82-b7a4e2c19717",
        "colab": {
          "base_uri": "https://localhost:8080/",
          "height": 151
        }
      },
      "source": [
        "X_test.iloc[0, :]"
      ],
      "execution_count": 9,
      "outputs": [
        {
          "output_type": "execute_result",
          "data": {
            "text/plain": [
              "Age (Birthday Masked)                           -1.048144\n",
              "Income                                           0.553416\n",
              "MAX(Learner Test Score)                          0.341779\n",
              "Hours Coded                                     -0.055229\n",
              "How Many Hours A Week Can You Commit To Class    1.585273\n",
              "Promise Zone Indicator                          -0.405866\n",
              "Location; number                                 0.571825\n",
              "Name: 522, dtype: float64"
            ]
          },
          "metadata": {
            "tags": []
          },
          "execution_count": 9
        }
      ]
    },
    {
      "cell_type": "code",
      "metadata": {
        "colab_type": "code",
        "id": "_YQJtfb2Yikp",
        "outputId": "87f7f1eb-ed83-43be-d6b0-f3166debcbe5",
        "colab": {
          "base_uri": "https://localhost:8080/",
          "height": 34
        }
      },
      "source": [
        "nb_score = nb.score(X_test, y_test.astype(int))\n",
        "print(\"Naive Bayes accuracy on test:\\t %f\" % nb_score)\n",
        "\n",
        "nb_score_val = nb.score(X_val, y_val.astype(int))"
      ],
      "execution_count": 10,
      "outputs": [
        {
          "output_type": "stream",
          "text": [
            "Naive Bayes accuracy on test:\t 0.568765\n"
          ],
          "name": "stdout"
        }
      ]
    },
    {
      "cell_type": "markdown",
      "metadata": {
        "colab_type": "text",
        "id": "bvAfBoazYikw"
      },
      "source": [
        "## SVM"
      ]
    },
    {
      "cell_type": "code",
      "metadata": {
        "colab_type": "code",
        "id": "99h61zvwYikw",
        "outputId": "e0c62fb4-4934-42c3-dd48-11902b87719e",
        "colab": {
          "base_uri": "https://localhost:8080/",
          "height": 84
        }
      },
      "source": [
        "clf = svm.SVC(kernel='linear', C=1, random_state=42)\n",
        "clf.fit(X_train, y_train.astype(int))"
      ],
      "execution_count": 11,
      "outputs": [
        {
          "output_type": "execute_result",
          "data": {
            "text/plain": [
              "SVC(C=1, cache_size=200, class_weight=None, coef0=0.0,\n",
              "    decision_function_shape='ovr', degree=3, gamma='auto_deprecated',\n",
              "    kernel='linear', max_iter=-1, probability=False, random_state=42,\n",
              "    shrinking=True, tol=0.001, verbose=False)"
            ]
          },
          "metadata": {
            "tags": []
          },
          "execution_count": 11
        }
      ]
    },
    {
      "cell_type": "code",
      "metadata": {
        "colab_type": "code",
        "id": "FyT3M3G3Yik1",
        "outputId": "10be48c2-3254-4467-bd74-0999c81e065a",
        "colab": {
          "base_uri": "https://localhost:8080/",
          "height": 34
        }
      },
      "source": [
        "clf_score = clf.score(X_test, y_test.astype(int))\n",
        "print(\"SVM accuracy on test:\\t %f\" % clf_score)\n",
        "\n",
        "clf_score_val = clf.score(X_val, y_val.astype(int))"
      ],
      "execution_count": 12,
      "outputs": [
        {
          "output_type": "stream",
          "text": [
            "SVM accuracy on test:\t 0.596737\n"
          ],
          "name": "stdout"
        }
      ]
    },
    {
      "cell_type": "markdown",
      "metadata": {
        "colab_type": "text",
        "id": "8swsGpmIYik6"
      },
      "source": [
        "## Linear Regression"
      ]
    },
    {
      "cell_type": "code",
      "metadata": {
        "colab_type": "code",
        "id": "9jeCXMeyYik7",
        "outputId": "59985c43-eda5-4e8c-d944-3fc5e3070d10",
        "colab": {
          "base_uri": "https://localhost:8080/",
          "height": 34
        }
      },
      "source": [
        "linr = linear_model.LinearRegression(n_jobs = -1)\n",
        "linr.fit(X_train, y_train.astype(int))"
      ],
      "execution_count": 13,
      "outputs": [
        {
          "output_type": "execute_result",
          "data": {
            "text/plain": [
              "LinearRegression(copy_X=True, fit_intercept=True, n_jobs=-1, normalize=False)"
            ]
          },
          "metadata": {
            "tags": []
          },
          "execution_count": 13
        }
      ]
    },
    {
      "cell_type": "code",
      "metadata": {
        "colab_type": "code",
        "id": "Xn9FTvQHYik-",
        "outputId": "5b9fd410-402a-4102-eb61-072642d9faef",
        "colab": {
          "base_uri": "https://localhost:8080/",
          "height": 34
        }
      },
      "source": [
        "linr_score = linr.score(X_test, y_test.astype(int))\n",
        "print(\"Linear Regression coefficient of determination, 1 is perfect prediction:\\t %f\" % linr_score)\n",
        "\n",
        "linr_score_val = linr.score(X_val, y_val.astype(int))"
      ],
      "execution_count": 14,
      "outputs": [
        {
          "output_type": "stream",
          "text": [
            "Linear Regression coefficient of determination, 1 is perfect prediction:\t 0.075434\n"
          ],
          "name": "stdout"
        }
      ]
    },
    {
      "cell_type": "markdown",
      "metadata": {
        "colab_type": "text",
        "id": "HAGwftH7YilF"
      },
      "source": [
        "## Random Forest"
      ]
    },
    {
      "cell_type": "code",
      "metadata": {
        "colab_type": "code",
        "id": "xEmAah4AYilH",
        "outputId": "f46cea20-115b-4378-8c00-1b6307e54df8",
        "colab": {
          "base_uri": "https://localhost:8080/",
          "height": 134
        }
      },
      "source": [
        "rf = RandomForestClassifier(criterion='gini', max_depth=5, \n",
        "                               min_samples_leaf=5, min_samples_split=2, \n",
        "                               n_estimators = 220, oob_score=True, \n",
        "                               max_features=0.5, n_jobs = -1, random_state=42)\n",
        "\n",
        "rf.fit(X_train, y_train.astype(int))"
      ],
      "execution_count": 15,
      "outputs": [
        {
          "output_type": "execute_result",
          "data": {
            "text/plain": [
              "RandomForestClassifier(bootstrap=True, class_weight=None, criterion='gini',\n",
              "                       max_depth=5, max_features=0.5, max_leaf_nodes=None,\n",
              "                       min_impurity_decrease=0.0, min_impurity_split=None,\n",
              "                       min_samples_leaf=5, min_samples_split=2,\n",
              "                       min_weight_fraction_leaf=0.0, n_estimators=220,\n",
              "                       n_jobs=-1, oob_score=True, random_state=42, verbose=0,\n",
              "                       warm_start=False)"
            ]
          },
          "metadata": {
            "tags": []
          },
          "execution_count": 15
        }
      ]
    },
    {
      "cell_type": "code",
      "metadata": {
        "colab_type": "code",
        "id": "mkkzAieuYilO",
        "outputId": "02a8bef0-81e5-4834-9c71-0fd3d07bd335",
        "colab": {
          "base_uri": "https://localhost:8080/",
          "height": 689
        }
      },
      "source": [
        "print(\"Random Forest - Test set\")\n",
        "rf_score = skl_evaluate(rf, desired_columns, X_test, y_test)\n",
        "\n",
        "print(\"Random Forest - Validation set\")\n",
        "rf_score_val = skl_evaluate(rf, desired_columns, X_val, y_val)"
      ],
      "execution_count": 16,
      "outputs": [
        {
          "output_type": "stream",
          "text": [
            "Random Forest - Test set\n",
            "              precision    recall  f1-score   support\n",
            "\n",
            "           0       0.65      0.79      0.72       241\n",
            "           1       0.64      0.46      0.54       188\n",
            "\n",
            "    accuracy                           0.65       429\n",
            "   macro avg       0.64      0.63      0.63       429\n",
            "weighted avg       0.65      0.65      0.64       429\n",
            "\n",
            "Accuracy on dataset:\t 0.648019\n",
            "\n",
            "Feature ranking:\n",
            "1. Education \t(0.275820)\n",
            "2. Age (Birthday Masked) \t(0.238993)\n",
            "3. MAX(Learner Test Score) \t(0.222282)\n",
            "4. Income \t(0.123961)\n",
            "5. Primary Interest In Course \t(0.076364)\n",
            "6. How Many Hours A Week Can You Commit To Class \t(0.034888)\n",
            "7. Hours Coded \t(0.027692)\n",
            "Random Forest - Validation set\n",
            "              precision    recall  f1-score   support\n",
            "\n",
            "           0       0.78      0.85      0.82       308\n",
            "           1       0.51      0.39      0.44       121\n",
            "\n",
            "    accuracy                           0.72       429\n",
            "   macro avg       0.65      0.62      0.63       429\n",
            "weighted avg       0.70      0.72      0.71       429\n",
            "\n",
            "Accuracy on dataset:\t 0.722611\n",
            "\n",
            "Feature ranking:\n",
            "1. Education \t(0.275820)\n",
            "2. Age (Birthday Masked) \t(0.238993)\n",
            "3. MAX(Learner Test Score) \t(0.222282)\n",
            "4. Income \t(0.123961)\n",
            "5. Primary Interest In Course \t(0.076364)\n",
            "6. How Many Hours A Week Can You Commit To Class \t(0.034888)\n",
            "7. Hours Coded \t(0.027692)\n"
          ],
          "name": "stdout"
        }
      ]
    },
    {
      "cell_type": "markdown",
      "metadata": {
        "id": "ACQr1zNChtYy",
        "colab_type": "text"
      },
      "source": [
        "## Random Forest Gridsearch Optimisation"
      ]
    },
    {
      "cell_type": "code",
      "metadata": {
        "colab_type": "code",
        "id": "VfCbU_P-heqi",
        "colab": {}
      },
      "source": [
        "rf=RandomForestClassifier(random_state=42)\n",
        "\n",
        "param_grid = { \n",
        "    'n_estimators': [100, 120, 140, 160, 180, 200, 220, 240, 260],\n",
        "    'min_samples_leaf': [3, 5, 7],\n",
        "    'min_samples_split': [2, 3, 4, 5, 6],\n",
        "    'max_depth' : [5, 10, 15, 20, 25, 30, 35, 40, 45],\n",
        "    'criterion' :['gini', 'entropy']\n",
        "}\n",
        "\n",
        "\n",
        "CV_rf = GridSearchCV(estimator=rf, param_grid=param_grid, cv= 5, n_jobs = -1, \n",
        "                     verbose = 2)\n",
        "CV_rf.fit(X_train, y_train.astype(int))\n",
        "CV_rf.best_params_"
      ],
      "execution_count": 0,
      "outputs": []
    },
    {
      "cell_type": "markdown",
      "metadata": {
        "id": "MHY_7EureT7g",
        "colab_type": "text"
      },
      "source": [
        "This is sample output from this step:\n",
        "\n",
        "```\n",
        "Fitting 5 folds for each of 2430 candidates, totalling 12150 fits\n",
        "[Parallel(n_jobs=-1)]: Using backend LokyBackend with 2 concurrent workers.\n",
        "[Parallel(n_jobs=-1)]: Done  37 tasks      | elapsed:    8.8s\n",
        "[Parallel(n_jobs=-1)]: Done 158 tasks      | elapsed:   33.4s\n",
        "[Parallel(n_jobs=-1)]: Done 361 tasks      | elapsed:  1.3min\n",
        "[Parallel(n_jobs=-1)]: Done 644 tasks      | elapsed:  2.3min\n",
        "[Parallel(n_jobs=-1)]: Done 1009 tasks      | elapsed:  3.7min\n",
        "[Parallel(n_jobs=-1)]: Done 1454 tasks      | elapsed:  5.5min\n",
        "[Parallel(n_jobs=-1)]: Done 1981 tasks      | elapsed:  7.7min\n",
        "[Parallel(n_jobs=-1)]: Done 2588 tasks      | elapsed: 10.2min\n",
        "[Parallel(n_jobs=-1)]: Done 3277 tasks      | elapsed: 13.0min\n",
        "[Parallel(n_jobs=-1)]: Done 4046 tasks      | elapsed: 16.2min\n",
        "[Parallel(n_jobs=-1)]: Done 4897 tasks      | elapsed: 19.7min\n",
        "[Parallel(n_jobs=-1)]: Done 5828 tasks      | elapsed: 23.5min\n",
        "[Parallel(n_jobs=-1)]: Done 6841 tasks      | elapsed: 27.4min\n",
        "[Parallel(n_jobs=-1)]: Done 7934 tasks      | elapsed: 32.2min\n",
        "[Parallel(n_jobs=-1)]: Done 9109 tasks      | elapsed: 37.4min\n",
        "[Parallel(n_jobs=-1)]: Done 10364 tasks      | elapsed: 43.0min\n",
        "[Parallel(n_jobs=-1)]: Done 11701 tasks      | elapsed: 49.0min\n",
        "[Parallel(n_jobs=-1)]: Done 12150 out of 12150 | elapsed: 50.9min finished\n",
        "```\n",
        "\n"
      ]
    },
    {
      "cell_type": "markdown",
      "metadata": {
        "id": "RdBQgFVPdsBa",
        "colab_type": "text"
      },
      "source": [
        "The optimum parameters are: {'criterion': 'gini',\n",
        " 'max_depth': 5,\n",
        " 'min_samples_leaf': 5,\n",
        " 'min_samples_split': 2,\n",
        " 'n_estimators': 220}"
      ]
    },
    {
      "cell_type": "code",
      "metadata": {
        "colab_type": "code",
        "id": "pCIxcG9giPVb",
        "colab": {}
      },
      "source": [
        "CV_rf_score = CV_rf.score(X_test, y_test.astype(int))\n",
        "print(\"Optimised Random Forest accuracy on test:\\t %f\" % CV_rf_score)"
      ],
      "execution_count": 0,
      "outputs": []
    },
    {
      "cell_type": "markdown",
      "metadata": {
        "colab_type": "text",
        "id": "OJobilleYilS"
      },
      "source": [
        "## Random Forest - Find Optimal Parameters"
      ]
    },
    {
      "cell_type": "code",
      "metadata": {
        "id": "4AQLK-dBf2ke",
        "colab_type": "code",
        "colab": {}
      },
      "source": [
        "def skl_run_combos(combo_columns, model, df_data, df_labels, SHUFFLE, FILL):\n",
        "\n",
        "    cool_list = list()\n",
        "    \n",
        "    X_train_combo = X_train\n",
        "    X_test_combo = X_test\n",
        "    \n",
        "    y_train_combo = y_train\n",
        "    y_test_combo = y_test\n",
        "\n",
        "    for L in range(0, len(combo_columns) + 1):\n",
        "        combinations = list(itertools.combinations(combo_columns, L))[1:]\n",
        "        for combo in combinations:\n",
        "            combo = list(combo)\n",
        "\n",
        "            model.fit(X_train_combo[combo], y_train)\n",
        "            rf_score = model.score(X_test_combo[combo], y_test)\n",
        "            output = str(rf_score) + \" \" + str(combo)\n",
        "            print(output)\n",
        "            cool_list.append(output)\n",
        "\n",
        "    cool_list.sort()\n",
        "\n",
        "    with open('outputs.txt', 'w') as f:\n",
        "        for item in cool_list:\n",
        "            f.write(\"%s\\n\" % item)\n",
        "            \n",
        "            \n",
        "def normalise_df(train_df, test_df, AXIS, val_df=1):\n",
        "    mu = train_df.mean(axis=AXIS)\n",
        "    sd = train_df.std(axis=AXIS)\n",
        "\n",
        "    train_df = (train_df - mu) / sd\n",
        "    test_df = (test_df - mu) / sd\n",
        "    val_df = (val_df - mu) / sd\n",
        "\n",
        "    return train_df, test_df, val_df "
      ],
      "execution_count": 0,
      "outputs": []
    },
    {
      "cell_type": "code",
      "metadata": {
        "colab_type": "code",
        "id": "JOrrBB03YilT",
        "scrolled": true,
        "colab": {}
      },
      "source": [
        "df_data = pickle.load( open( \"df_data.p\", \"rb\" ) )\n",
        "df_labels = pickle.load( open( \"df_labels.p\", \"rb\" ) )\n",
        "\n",
        "combo_columns = ['Age (Birthday Masked)','Income','Education',\n",
        "                 'MAX(Learner Test Score)','Primary Interest In Course',\n",
        "                 'Hours Coded','How Many Hours A Week Can You Commit To Class',\n",
        "                 'Promise Zone Indicator','Hacker Rank Score',\n",
        "                 'Location; number']\n",
        "\n",
        "model = RandomForestClassifier(criterion='gini', max_depth=5, \n",
        "                               min_samples_leaf=5, min_samples_split=2, \n",
        "                               n_estimators = 220, oob_score=True, \n",
        "                               max_features=0.5, n_jobs = -1, random_state=42)\n",
        "\n",
        "print('Accuracy on test, [columns used]')\n",
        "skl_run_combos(combo_columns, model, df_data, df_labels, \n",
        "                            SHUFFLE, FILL)"
      ],
      "execution_count": 0,
      "outputs": []
    },
    {
      "cell_type": "markdown",
      "metadata": {
        "id": "ixnVbgqGMg5P",
        "colab_type": "text"
      },
      "source": [
        "This is a sample output from this step:\n",
        "\n",
        "![RF_param_combos](https://drive.google.com/uc?export=view&id=1UGSbTdlMqiKh_6m0Q4iwTIrmmh9wacIx)"
      ]
    },
    {
      "cell_type": "markdown",
      "metadata": {
        "colab_type": "text",
        "id": "wC8_rez9Yila"
      },
      "source": [
        "## Multi Layer Perceptron"
      ]
    },
    {
      "cell_type": "code",
      "metadata": {
        "id": "Pqz24k2vM-K3",
        "colab_type": "code",
        "colab": {}
      },
      "source": [
        "def build_mlp(input, NUM_CLASSES):\n",
        "    model = keras.Sequential([\n",
        "        keras.layers.Dense(8, activation='relu', input_shape=(input.shape[1],)),\n",
        "        keras.layers.Dense(5, activation='relu'),\n",
        "#         keras.layers.Dense(3, activation='relu'),\n",
        "        keras.layers.Dense(NUM_CLASSES, activation='softmax')\n",
        "    ])\n",
        "\n",
        "    model.compile(loss='categorical_crossentropy', optimizer='adam', \n",
        "                  metrics=['mae', 'acc'])\n",
        "\n",
        "    model.summary()\n",
        "\n",
        "    return model\n",
        "\n",
        "\n",
        "def train_mlp(dataframe, labels, model, checkpoint_path, EPOCHS):\n",
        "    # Limit the training when there are multiple epochs with little change loss\n",
        "    # The patience parameter is the amount of epochs to check for improvement\n",
        "    early_stop = keras.callbacks.EarlyStopping(monitor='val_loss',\n",
        "                                               patience=4000)\n",
        "\n",
        "    # Create checkpoint callback\n",
        "    cp_callback = keras.callbacks.ModelCheckpoint(checkpoint_path,\n",
        "                                                  save_weights_only=True,\n",
        "                                                  verbose=0)\n",
        "\n",
        "    # Track the training statistics\n",
        "    history = model.fit(dataframe, labels, epochs=EPOCHS,\n",
        "                        validation_split=0.2, verbose=0,\n",
        "                        callbacks=[early_stop, EpochTrack(), cp_callback])\n",
        "\n",
        "    print(\"\\nEpochs: {}\".format(len(history.epoch)))\n",
        "    plot_history(history)\n",
        "\n",
        "    return model"
      ],
      "execution_count": 0,
      "outputs": []
    },
    {
      "cell_type": "code",
      "metadata": {
        "colab_type": "code",
        "id": "brZCOCZiYile",
        "outputId": "b44f91d9-6422-491b-f192-389646476060",
        "colab": {
          "base_uri": "https://localhost:8080/",
          "height": 776
        }
      },
      "source": [
        "y_train_sparse = keras.utils.to_categorical(y_train, NUM_CLASSES)\n",
        "\n",
        "TRAIN = 0\n",
        "\n",
        "if TRAIN == 1:\n",
        "    checkpoint_path = \"training_1/cp.ckpt\"\n",
        "    checkpoint_dir = os.path.dirname(checkpoint_path)\n",
        "\n",
        "    # Train MLP and save to checkpoints\n",
        "    %time mlp = train_mlp(X_train, y_train_sparse, build_mlp(X_train, NUM_CLASSES), checkpoint_path, EPOCHS=2000)\n",
        "    \n",
        "else:\n",
        "    checkpoint_path = \"training_1/cp.ckpt\"\n",
        "        \n",
        "    checkpoint_dir = os.path.dirname(checkpoint_path)\n",
        "\n",
        "    # Load trained weights from the checkpoint path\n",
        "    mlp = build_mlp(X_train, NUM_CLASSES)\n",
        "    mlp.load_weights(checkpoint_path)\n",
        "\n",
        "# Test\n",
        "print(\"\\nMLP - Test set\")\n",
        "acc_test, preds_test = eval_model(mlp, X_test, y_test, 0, NUM_CLASSES)\n",
        "\n",
        "print(\"\\nMLP - Validation set\")\n",
        "acc_val, preds_val = eval_model(mlp, X_val, y_val, 0, NUM_CLASSES)"
      ],
      "execution_count": 22,
      "outputs": [
        {
          "output_type": "stream",
          "text": [
            "WARNING:tensorflow:From /usr/local/lib/python3.6/dist-packages/tensorflow/python/ops/resource_variable_ops.py:435: colocate_with (from tensorflow.python.framework.ops) is deprecated and will be removed in a future version.\n",
            "Instructions for updating:\n",
            "Colocations handled automatically by placer.\n",
            "_________________________________________________________________\n",
            "Layer (type)                 Output Shape              Param #   \n",
            "=================================================================\n",
            "dense (Dense)                (None, 8)                 64        \n",
            "_________________________________________________________________\n",
            "dense_1 (Dense)              (None, 5)                 45        \n",
            "_________________________________________________________________\n",
            "dense_2 (Dense)              (None, 2)                 12        \n",
            "=================================================================\n",
            "Total params: 121\n",
            "Trainable params: 121\n",
            "Non-trainable params: 0\n",
            "_________________________________________________________________\n",
            "\n",
            "MLP - Test set\n",
            "Mean Abs Error:\t 452.30\n",
            "Loss:\t\t 0.722468122318908\n",
            "Accuracy:\t 0.5874126\n",
            "              precision    recall  f1-score   support\n",
            "\n",
            "           0       0.62      0.71      0.66       241\n",
            "           1       0.54      0.43      0.48       188\n",
            "\n",
            "    accuracy                           0.59       429\n",
            "   macro avg       0.58      0.57      0.57       429\n",
            "weighted avg       0.58      0.59      0.58       429\n",
            "\n",
            "\n",
            "MLP - Validation set\n",
            "Mean Abs Error:\t 404.29\n",
            "Loss:\t\t 0.6603915860880782\n",
            "Accuracy:\t 0.66899765\n",
            "              precision    recall  f1-score   support\n",
            "\n",
            "           0       0.78      0.75      0.77       308\n",
            "           1       0.42      0.45      0.44       121\n",
            "\n",
            "    accuracy                           0.67       429\n",
            "   macro avg       0.60      0.60      0.60       429\n",
            "weighted avg       0.68      0.67      0.67       429\n",
            "\n"
          ],
          "name": "stdout"
        }
      ]
    },
    {
      "cell_type": "markdown",
      "metadata": {
        "colab_type": "text",
        "id": "bnltr1ywBVkw"
      },
      "source": [
        "## MLP every combination of parameters"
      ]
    },
    {
      "cell_type": "code",
      "metadata": {
        "colab_type": "code",
        "id": "Py5EaI9kBH3I",
        "colab": {}
      },
      "source": [
        "col_names = ['Age (Birthday Masked)','Income','Education',\n",
        "             'MAX(Learner Test Score)','Primary Interest In Course',\n",
        "             'Hours Coded','How Many Hours A Week Can You Commit To Class'\n",
        "             ,'Promise Zone Indicator','Hacker Rank Score','Location; number']\n",
        "\n",
        "cool_list = list()\n",
        "\n",
        "y_train_sparse = keras.utils.to_categorical(y_train, NUM_CLASSES)\n",
        "y_val_sparse = keras.utils.to_categorical(y_val, NUM_CLASSES)\n",
        "\n",
        "# with open('results.txt', 'w') as f:\n",
        "#   for L in range(0, len(col_names)+1):\n",
        "#       combinations = list(itertools.combinations(col_names, L))[4:]\n",
        "#       for combo in combinations:\n",
        "#           combo = list(combo)\n",
        "\n",
        "#           mlp = train_mlp(X_train[combo], y_train_sparse, \n",
        "#                           build_mlp(X_train[combo], NUM_CLASSES), \n",
        "#                           checkpoint_path, EPOCHS=1000)\n",
        "#           acc_val = eval_model(mlp, X_val[combo], y_val_sparse, 0, NUM_CLASSES)\n",
        "\n",
        "#           output = str(acc_val) + \" \" + str(combo) + \"\\n\"\n",
        "#           print(output)\n",
        "#           cool_list.append(output)\n",
        "#           f.write(str(cool_list))"
      ],
      "execution_count": 0,
      "outputs": []
    },
    {
      "cell_type": "markdown",
      "metadata": {
        "colab_type": "text",
        "id": "OvcjcQluYilr"
      },
      "source": [
        "## Test Results Summary"
      ]
    },
    {
      "cell_type": "code",
      "metadata": {
        "colab_type": "code",
        "id": "ebWb19NOYils",
        "colab": {
          "base_uri": "https://localhost:8080/",
          "height": 168
        },
        "outputId": "cd9f23f7-0ae8-4e8d-d71c-58ffb482593b"
      },
      "source": [
        "print(\"Naive Bayes accuracy on validation:\\t\\t %f\" % nb_score_val)\n",
        "print('')\n",
        "print(\"SVM accuracy on validation:\\t\\t\\t %f\" % clf_score_val)\n",
        "print('')\n",
        "print(\"Linear Regression accuracy on validation:\\t %f\" % linr_score_val)\n",
        "print('')\n",
        "print(\"Random Forest accuracy on validation:\\t\\t %f\" % rf_score_val)\n",
        "print('')\n",
        "print(\"MLP accuracy on validation:\\t\\t\\t %f\" % acc_val)"
      ],
      "execution_count": 32,
      "outputs": [
        {
          "output_type": "stream",
          "text": [
            "Naive Bayes accuracy on validation:\t\t 0.641026\n",
            "\n",
            "SVM accuracy on validation:\t\t\t 0.727273\n",
            "\n",
            "Linear Regression accuracy on validation:\t 0.051558\n",
            "\n",
            "Random Forest accuracy on validation:\t\t 0.722611\n",
            "\n",
            "MLP accuracy on validation:\t\t\t 0.668998\n"
          ],
          "name": "stdout"
        }
      ]
    },
    {
      "cell_type": "markdown",
      "metadata": {
        "id": "UrMA5S8shtZC",
        "colab_type": "text"
      },
      "source": [
        "## Insight"
      ]
    },
    {
      "cell_type": "markdown",
      "metadata": {
        "colab_type": "text",
        "id": "Xco01iEZYilx"
      },
      "source": [
        "Let's sanity check the results by comparing model predictions to the real test results."
      ]
    },
    {
      "cell_type": "code",
      "metadata": {
        "id": "Rnnh9HWehtZE",
        "colab_type": "code",
        "colab": {}
      },
      "source": [
        "predictions = preds_test\n",
        "\n",
        "y_classes = predictions.argmax(axis=-1)"
      ],
      "execution_count": 0,
      "outputs": []
    },
    {
      "cell_type": "markdown",
      "metadata": {
        "id": "XOmeuiP4htZG",
        "colab_type": "text"
      },
      "source": [
        "When comparing predictions to true labels we'd expect to see mostly true values for high scoring classifiers"
      ]
    },
    {
      "cell_type": "code",
      "metadata": {
        "colab_type": "code",
        "id": "7iioC7QXYilx",
        "colab": {
          "base_uri": "https://localhost:8080/",
          "height": 212
        },
        "outputId": "21624307-a50f-4677-a99b-3b294498825e"
      },
      "source": [
        "y_classes = y_classes.flatten()\n",
        "\n",
        "# Match is 'True' when values are the same\n",
        "match = [y_classes[x] == y_test[x] for x in range(len(y_classes))]\n",
        "\n",
        "# Combine and show\n",
        "df_compare = pd.DataFrame({'Predictions': y_classes, 'Actual': y_test, \n",
        "                           'Match': match})\n",
        "\n",
        "print('Show performance on first 5 rows')\n",
        "df_compare.head(5)"
      ],
      "execution_count": 31,
      "outputs": [
        {
          "output_type": "stream",
          "text": [
            "Show performance on first 5 rows\n"
          ],
          "name": "stdout"
        },
        {
          "output_type": "execute_result",
          "data": {
            "text/html": [
              "<div>\n",
              "<style scoped>\n",
              "    .dataframe tbody tr th:only-of-type {\n",
              "        vertical-align: middle;\n",
              "    }\n",
              "\n",
              "    .dataframe tbody tr th {\n",
              "        vertical-align: top;\n",
              "    }\n",
              "\n",
              "    .dataframe thead th {\n",
              "        text-align: right;\n",
              "    }\n",
              "</style>\n",
              "<table border=\"1\" class=\"dataframe\">\n",
              "  <thead>\n",
              "    <tr style=\"text-align: right;\">\n",
              "      <th></th>\n",
              "      <th>Predictions</th>\n",
              "      <th>Actual</th>\n",
              "      <th>Match</th>\n",
              "    </tr>\n",
              "  </thead>\n",
              "  <tbody>\n",
              "    <tr>\n",
              "      <th>0</th>\n",
              "      <td>1</td>\n",
              "      <td>1</td>\n",
              "      <td>True</td>\n",
              "    </tr>\n",
              "    <tr>\n",
              "      <th>1</th>\n",
              "      <td>0</td>\n",
              "      <td>0</td>\n",
              "      <td>True</td>\n",
              "    </tr>\n",
              "    <tr>\n",
              "      <th>2</th>\n",
              "      <td>1</td>\n",
              "      <td>1</td>\n",
              "      <td>True</td>\n",
              "    </tr>\n",
              "    <tr>\n",
              "      <th>3</th>\n",
              "      <td>0</td>\n",
              "      <td>1</td>\n",
              "      <td>False</td>\n",
              "    </tr>\n",
              "    <tr>\n",
              "      <th>4</th>\n",
              "      <td>1</td>\n",
              "      <td>1</td>\n",
              "      <td>True</td>\n",
              "    </tr>\n",
              "  </tbody>\n",
              "</table>\n",
              "</div>"
            ],
            "text/plain": [
              "   Predictions  Actual  Match\n",
              "0            1       1   True\n",
              "1            0       0   True\n",
              "2            1       1   True\n",
              "3            0       1  False\n",
              "4            1       1   True"
            ]
          },
          "metadata": {
            "tags": []
          },
          "execution_count": 31
        }
      ]
    },
    {
      "cell_type": "markdown",
      "metadata": {
        "id": "oxAW9TvThtZJ",
        "colab_type": "text"
      },
      "source": [
        "We can also obtain the set of rows that were incorrectly predicted"
      ]
    },
    {
      "cell_type": "code",
      "metadata": {
        "id": "Yysbd_aphtZJ",
        "colab_type": "code",
        "colab": {
          "base_uri": "https://localhost:8080/",
          "height": 246
        },
        "outputId": "287cafc4-323a-40da-d3fd-106e2fc4c3f5"
      },
      "source": [
        "df_pred = show_incorrect(y_classes, X_test, y_test)\n",
        "\n",
        "df_pred.sort_values('Prediction', inplace=True)\n",
        "print('Show first 5 rows that had wrong predictions')\n",
        "print('Values are encoded as per earlier steps')\n",
        "df_pred.head(5)"
      ],
      "execution_count": 29,
      "outputs": [
        {
          "output_type": "stream",
          "text": [
            "Show first 5 rows that had wrong predictions\n",
            "Values are encoded as per earlier steps\n"
          ],
          "name": "stdout"
        },
        {
          "output_type": "execute_result",
          "data": {
            "text/html": [
              "<div>\n",
              "<style scoped>\n",
              "    .dataframe tbody tr th:only-of-type {\n",
              "        vertical-align: middle;\n",
              "    }\n",
              "\n",
              "    .dataframe tbody tr th {\n",
              "        vertical-align: top;\n",
              "    }\n",
              "\n",
              "    .dataframe thead th {\n",
              "        text-align: right;\n",
              "    }\n",
              "</style>\n",
              "<table border=\"1\" class=\"dataframe\">\n",
              "  <thead>\n",
              "    <tr style=\"text-align: right;\">\n",
              "      <th></th>\n",
              "      <th>Age (Birthday Masked)</th>\n",
              "      <th>Income</th>\n",
              "      <th>MAX(Learner Test Score)</th>\n",
              "      <th>Hours Coded</th>\n",
              "      <th>How Many Hours A Week Can You Commit To Class</th>\n",
              "      <th>Promise Zone Indicator</th>\n",
              "      <th>Location; number</th>\n",
              "      <th>Prediction</th>\n",
              "      <th>Actual</th>\n",
              "    </tr>\n",
              "  </thead>\n",
              "  <tbody>\n",
              "    <tr>\n",
              "      <th>0</th>\n",
              "      <td>1.647899</td>\n",
              "      <td>1.832671</td>\n",
              "      <td>-0.628481</td>\n",
              "      <td>-0.055229</td>\n",
              "      <td>0.381102</td>\n",
              "      <td>-0.405866</td>\n",
              "      <td>0.571825</td>\n",
              "      <td>0</td>\n",
              "      <td>1</td>\n",
              "    </tr>\n",
              "    <tr>\n",
              "      <th>125</th>\n",
              "      <td>-0.185411</td>\n",
              "      <td>-1.578677</td>\n",
              "      <td>0.988618</td>\n",
              "      <td>-0.055229</td>\n",
              "      <td>-0.823068</td>\n",
              "      <td>-0.405866</td>\n",
              "      <td>0.571825</td>\n",
              "      <td>0</td>\n",
              "      <td>1</td>\n",
              "    </tr>\n",
              "    <tr>\n",
              "      <th>124</th>\n",
              "      <td>-0.293252</td>\n",
              "      <td>-0.299421</td>\n",
              "      <td>0.341779</td>\n",
              "      <td>1.974047</td>\n",
              "      <td>0.381102</td>\n",
              "      <td>-0.405866</td>\n",
              "      <td>0.571825</td>\n",
              "      <td>0</td>\n",
              "      <td>1</td>\n",
              "    </tr>\n",
              "    <tr>\n",
              "      <th>120</th>\n",
              "      <td>-0.616777</td>\n",
              "      <td>1.406253</td>\n",
              "      <td>1.312038</td>\n",
              "      <td>-1.069867</td>\n",
              "      <td>-0.823068</td>\n",
              "      <td>-0.405866</td>\n",
              "      <td>0.571825</td>\n",
              "      <td>0</td>\n",
              "      <td>1</td>\n",
              "    </tr>\n",
              "    <tr>\n",
              "      <th>119</th>\n",
              "      <td>-0.616777</td>\n",
              "      <td>-1.152258</td>\n",
              "      <td>0.018359</td>\n",
              "      <td>0.959409</td>\n",
              "      <td>1.585273</td>\n",
              "      <td>-0.405866</td>\n",
              "      <td>-1.058701</td>\n",
              "      <td>0</td>\n",
              "      <td>1</td>\n",
              "    </tr>\n",
              "  </tbody>\n",
              "</table>\n",
              "</div>"
            ],
            "text/plain": [
              "     Age (Birthday Masked)    Income  ...  Prediction  Actual\n",
              "0                 1.647899  1.832671  ...           0       1\n",
              "125              -0.185411 -1.578677  ...           0       1\n",
              "124              -0.293252 -0.299421  ...           0       1\n",
              "120              -0.616777  1.406253  ...           0       1\n",
              "119              -0.616777 -1.152258  ...           0       1\n",
              "\n",
              "[5 rows x 9 columns]"
            ]
          },
          "metadata": {
            "tags": []
          },
          "execution_count": 29
        }
      ]
    }
  ]
}